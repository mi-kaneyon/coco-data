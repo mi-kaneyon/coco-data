{
 "cells": [
  {
   "cell_type": "markdown",
   "id": "3ce6ca94-4eb5-41e9-a23a-780e7a2a4c8c",
   "metadata": {},
   "source": [
    "# COCO format optimizer for MMdetection"
   ]
  },
  {
   "cell_type": "markdown",
   "id": "322ff43b-5fa9-420b-8f29-1333457a2ee7",
   "metadata": {},
   "source": [
    "## Correction format"
   ]
  },
  {
   "cell_type": "code",
   "execution_count": 8,
   "id": "c747e797-f85e-43b8-9aff-dfb9c0e1d671",
   "metadata": {},
   "outputs": [
    {
     "name": "stdout",
     "output_type": "stream",
     "text": [
      "{'annotated': True,\n",
      " 'annotating': [],\n",
      " 'category_ids': [4],\n",
      " 'dataset_id': 11,\n",
      " 'events': [{'_cls': 'SessionEvent',\n",
      "             'milliseconds': 21354,\n",
      "             'tools_used': [],\n",
      "             'user': 'kanegi'}],\n",
      " 'file_name': '/datasets/marins/IMG_3940.jpg',\n",
      " 'height': 1613,\n",
      " 'id': 80,\n",
      " 'is_modified': False,\n",
      " 'metadata': {},\n",
      " 'milliseconds': 21354,\n",
      " 'num_annotations': 1,\n",
      " 'regenerate_thumbnail': False,\n",
      " 'width': 1210}\n",
      "{'area': 1254705,\n",
      " 'bbox': [102, 341, 1077, 1165],\n",
      " 'category_id': 4,\n",
      " 'color': '#1e509e',\n",
      " 'creator': 'kanegi',\n",
      " 'dataset_id': 11,\n",
      " 'events': [{'_cls': 'SessionEvent',\n",
      "             'created_at': {'$date': 1661310867504},\n",
      "             'milliseconds': 17704,\n",
      "             'tools_used': ['Polygon', 'BBox'],\n",
      "             'user': 'kanegi'}],\n",
      " 'height': 1613,\n",
      " 'id': 90,\n",
      " 'image_id': 80,\n",
      " 'iscrowd': False,\n",
      " 'metadata': {},\n",
      " 'milliseconds': 17704,\n",
      " 'segmentation': [[1178.8, 341.3, 1178.8, 1505.7, 102.3, 1505.7, 102.3, 341.3]],\n",
      " 'width': 1210}\n",
      "{'creator': 'kanegi',\n",
      " 'id': 4,\n",
      " 'keypoint_colors': [],\n",
      " 'metadata': {},\n",
      " 'name': 'senchopc'}\n"
     ]
    }
   ],
   "source": [
    "import json\n",
    "import pprint\n",
    "\n",
    "# Load the provided JSON file\n",
    "with open('marins.json', 'r') as f:\n",
    "    data = json.load(f)\n",
    "\n",
    "# Convert 'path' to 'file_name' in 'images'\n",
    "for image in data['images']:\n",
    "    image['file_name'] = image.pop('path')\n",
    "\n",
    "# Remove 'isbbox' from 'annotations'\n",
    "for annotation in data['annotations']:\n",
    "    annotation.pop('isbbox', None)\n",
    "\n",
    "# Remove 'supercategory' and 'color' from 'categories'\n",
    "for category in data['categories']:\n",
    "    category.pop('supercategory', None)\n",
    "    category.pop('color', None)\n",
    "\n",
    "# Save the converted data to a new JSON file\n",
    "with open('converted.json', 'w') as f:\n",
    "    json.dump(data, f)\n",
    "\n",
    "# Print an example from the converted data\n",
    "pprint.pprint(data['images'][0])  # Print the first image\n",
    "pprint.pprint(data['annotations'][0])  # Print the first annotation\n",
    "pprint.pprint(data['categories'][0])  # Print the first category\n"
   ]
  },
  {
   "cell_type": "markdown",
   "id": "e69b9d9e-d86b-4611-885e-50274be674d3",
   "metadata": {},
   "source": [
    "# Correction Result Check"
   ]
  },
  {
   "cell_type": "code",
   "execution_count": 16,
   "id": "dfddf246-a021-421c-9168-30e907b3f3a7",
   "metadata": {},
   "outputs": [
    {
     "ename": "KeyError",
     "evalue": "'ile_name'",
     "output_type": "error",
     "traceback": [
      "\u001b[1;31m---------------------------------------------------------------------------\u001b[0m",
      "\u001b[1;31mKeyError\u001b[0m                                  Traceback (most recent call last)",
      "\u001b[1;32m~\\AppData\\Local\\Temp\\ipykernel_32396\\2656783842.py\u001b[0m in \u001b[0;36m<module>\u001b[1;34m\u001b[0m\n\u001b[0;32m     18\u001b[0m \u001b[1;33m\u001b[0m\u001b[0m\n\u001b[0;32m     19\u001b[0m \u001b[1;31m# Open the image file\u001b[0m\u001b[1;33m\u001b[0m\u001b[1;33m\u001b[0m\u001b[1;33m\u001b[0m\u001b[0m\n\u001b[1;32m---> 20\u001b[1;33m \u001b[0mim\u001b[0m \u001b[1;33m=\u001b[0m \u001b[0mnp\u001b[0m\u001b[1;33m.\u001b[0m\u001b[0marray\u001b[0m\u001b[1;33m(\u001b[0m\u001b[0mImage\u001b[0m\u001b[1;33m.\u001b[0m\u001b[0mopen\u001b[0m\u001b[1;33m(\u001b[0m\u001b[1;34m'images/'\u001b[0m \u001b[1;33m+\u001b[0m \u001b[0mos\u001b[0m\u001b[1;33m.\u001b[0m\u001b[0mpath\u001b[0m\u001b[1;33m.\u001b[0m\u001b[0mbasename\u001b[0m\u001b[1;33m(\u001b[0m\u001b[0mfirst_image\u001b[0m\u001b[1;33m[\u001b[0m\u001b[1;34m'ile_name'\u001b[0m\u001b[1;33m]\u001b[0m\u001b[1;33m)\u001b[0m\u001b[1;33m)\u001b[0m\u001b[1;33m,\u001b[0m \u001b[0mdtype\u001b[0m\u001b[1;33m=\u001b[0m\u001b[0mnp\u001b[0m\u001b[1;33m.\u001b[0m\u001b[0muint8\u001b[0m\u001b[1;33m)\u001b[0m\u001b[1;33m\u001b[0m\u001b[1;33m\u001b[0m\u001b[0m\n\u001b[0m\u001b[0;32m     21\u001b[0m \u001b[1;33m\u001b[0m\u001b[0m\n\u001b[0;32m     22\u001b[0m \u001b[1;31m# Create figure and axes\u001b[0m\u001b[1;33m\u001b[0m\u001b[1;33m\u001b[0m\u001b[1;33m\u001b[0m\u001b[0m\n",
      "\u001b[1;31mKeyError\u001b[0m: 'ile_name'"
     ]
    }
   ],
   "source": [
    "import matplotlib.pyplot as plt\n",
    "import matplotlib.patches as patches\n",
    "from PIL import Image\n",
    "import numpy as np\n",
    "import os\n",
    "\n",
    "# Load the converted JSON file\n",
    "with open('converted.json', 'r') as f:\n",
    "    data = json.load(f)\n",
    "\n",
    "# Get the first image information\n",
    "first_image = data['images'][0]\n",
    "first_annotation = data['annotations'][0]\n",
    "\n",
    "# Get the category name for the first annotation\n",
    "category_id = first_annotation['category_id']\n",
    "category_name = next((category['name'] for category in data['categories'] if category['id'] == category_id), None)\n",
    "\n",
    "# Open the image file\n",
    "im = np.array(Image.open('images/' + os.path.basename(first_image['file_name'])), dtype=np.uint8)\n",
    "\n",
    "# Create figure and axes\n",
    "fig, ax = plt.subplots(1)\n",
    "\n",
    "# Display the image\n",
    "ax.imshow(im)\n",
    "\n",
    "# Create a Rectangle patch for the bounding box\n",
    "# Bounding box format in the JSON is [x, y, width, height]\n",
    "bbox = patches.Rectangle((first_annotation['bbox'][0], first_annotation['bbox'][1]), \n",
    "                         first_annotation['bbox'][2], first_annotation['bbox'][3], \n",
    "                         linewidth=1, edgecolor='r', facecolor='none')\n",
    "\n",
    "# Add the patch to the Axes\n",
    "ax.add_patch(bbox)\n",
    "\n",
    "# Add the category name to the image\n",
    "plt.text(first_annotation['bbox'][0], first_annotation['bbox'][1], category_name, \n",
    "         bbox=dict(facecolor='white', alpha=0.5))\n",
    "\n",
    "plt.show()\n"
   ]
  },
  {
   "cell_type": "markdown",
   "id": "03a8b772-d248-4330-b1c4-58e60fc8b9c6",
   "metadata": {},
   "source": [
    "# End"
   ]
  },
  {
   "cell_type": "code",
   "execution_count": null,
   "id": "abc4bf53-aa0c-4e9f-a0aa-bd0d04113f3d",
   "metadata": {},
   "outputs": [],
   "source": []
  }
 ],
 "metadata": {
  "kernelspec": {
   "display_name": "Python 3 (ipykernel)",
   "language": "python",
   "name": "python3"
  },
  "language_info": {
   "codemirror_mode": {
    "name": "ipython",
    "version": 3
   },
   "file_extension": ".py",
   "mimetype": "text/x-python",
   "name": "python",
   "nbconvert_exporter": "python",
   "pygments_lexer": "ipython3",
   "version": "3.7.16"
  }
 },
 "nbformat": 4,
 "nbformat_minor": 5
}
