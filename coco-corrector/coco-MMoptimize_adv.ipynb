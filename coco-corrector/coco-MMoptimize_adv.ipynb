{
 "cells": [
  {
   "cell_type": "markdown",
   "id": "3ce6ca94-4eb5-41e9-a23a-780e7a2a4c8c",
   "metadata": {},
   "source": [
    "# COCO format optimizer for MMdetection"
   ]
  },
  {
   "cell_type": "markdown",
   "id": "322ff43b-5fa9-420b-8f29-1333457a2ee7",
   "metadata": {},
   "source": [
    "## Correction format"
   ]
  },
  {
   "cell_type": "code",
   "execution_count": 8,
   "id": "811cd194-ff05-49fb-8970-6d2e98f4237c",
   "metadata": {
    "tags": []
   },
   "outputs": [
    {
     "name": "stdout",
     "output_type": "stream",
     "text": [
      "/datasets/cup\n"
     ]
    }
   ],
   "source": [
    "import json\n",
    "import os\n",
    "\n",
    "# Load the provided JSON file\n",
    "with open('cup.json', 'r') as f:\n",
    "    data = json.load(f)\n",
    "\n",
    "# Extract unique directory paths from 'images'\n",
    "unique_dirs = set(os.path.dirname(image['path']) for image in data['images'])\n",
    "\n",
    "# Print the unique directory paths\n",
    "for directory in unique_dirs:\n",
    "    print(directory)\n"
   ]
  },
  {
   "cell_type": "markdown",
   "id": "a5cbe560-ebb8-4663-b113-884f28fc862f",
   "metadata": {},
   "source": [
    "# File import"
   ]
  },
  {
   "cell_type": "code",
   "execution_count": 11,
   "id": "c747e797-f85e-43b8-9aff-dfb9c0e1d671",
   "metadata": {
    "tags": []
   },
   "outputs": [
    {
     "name": "stdout",
     "output_type": "stream",
     "text": [
      "{'annotated': True,\n",
      " 'annotating': [],\n",
      " 'category_ids': [1],\n",
      " 'dataset_id': 1,\n",
      " 'events': [],\n",
      " 'file_name': '/data/cup/0a2c2e78-pass_0080180.png',\n",
      " 'height': 512,\n",
      " 'id': 1,\n",
      " 'is_modified': False,\n",
      " 'metadata': {},\n",
      " 'milliseconds': 0,\n",
      " 'num_annotations': 1,\n",
      " 'regenerate_thumbnail': False,\n",
      " 'width': 512}\n",
      "{'area': 2360,\n",
      " 'bbox': [0, 0, 59, 40],\n",
      " 'category_id': 1,\n",
      " 'color': '#db12b6',\n",
      " 'creator': 'askengi',\n",
      " 'dataset_id': 1,\n",
      " 'events': [{'_cls': 'SessionEvent',\n",
      "             'created_at': {'$date': 1689829537429},\n",
      "             'milliseconds': 9509,\n",
      "             'tools_used': ['BBox'],\n",
      "             'user': 'askengi'}],\n",
      " 'height': 512,\n",
      " 'id': 136,\n",
      " 'image_id': 1,\n",
      " 'iscrowd': False,\n",
      " 'metadata': {},\n",
      " 'milliseconds': 9509,\n",
      " 'segmentation': [[-0.9, 39.5, -0.9, 0.3, 58.9, 0.3, 58.9, 39.5]],\n",
      " 'width': 512}\n",
      "{'creator': 'askengi',\n",
      " 'id': 1,\n",
      " 'keypoint_colors': [],\n",
      " 'metadata': {},\n",
      " 'name': 'Furyo'}\n"
     ]
    }
   ],
   "source": [
    "import json\n",
    "import pprint\n",
    "\n",
    "# Load the provided JSON file\n",
    "with open('cup.json', 'r') as f:\n",
    "    data = json.load(f)\n",
    "\n",
    "# Define the old and new paths\n",
    "old_path = '/datasets/cup/'\n",
    "new_path = '/data/cup/'\n",
    "\n",
    "# Convert 'path' to 'file_name' in 'images' and change the path\n",
    "for image in data['images']:\n",
    "    image['file_name'] = image.pop('path').replace(old_path, new_path)\n",
    "\n",
    "# Remove 'isbbox' from 'annotations'\n",
    "for annotation in data['annotations']:\n",
    "    annotation.pop('isbbox', None)\n",
    "\n",
    "# Remove 'supercategory' and 'color' from 'categories'\n",
    "for category in data['categories']:\n",
    "    category.pop('supercategory', None)\n",
    "    category.pop('color', None)\n",
    "\n",
    "# Save the converted data to a new JSON file\n",
    "with open('converted.json', 'w') as f:\n",
    "    json.dump(data, f)\n",
    "\n",
    "# Print an example from the converted data\n",
    "pprint.pprint(data['images'][0])  # Print the first image\n",
    "pprint.pprint(data['annotations'][0])  # Print the first annotation\n",
    "pprint.pprint(data['categories'][0])  # Print the first category\n"
   ]
  },
  {
   "cell_type": "markdown",
   "id": "e69b9d9e-d86b-4611-885e-50274be674d3",
   "metadata": {},
   "source": [
    "# Correction Result Check"
   ]
  },
  {
   "cell_type": "code",
   "execution_count": 13,
   "id": "dfddf246-a021-421c-9168-30e907b3f3a7",
   "metadata": {},
   "outputs": [
    {
     "data": {
      "image/png": "[encoded data removed]",
      "text/plain": [
       "<Figure size 640x480 with 1 Axes>"
      ]
     },
     "metadata": {},
     "output_type": "display_data"
    }
   ],
   "source": [
    "import matplotlib.pyplot as plt\n",
    "import matplotlib.patches as patches\n",
    "from PIL import Image\n",
    "import numpy as np\n",
    "import os\n",
    "\n",
    "# Load the converted JSON file\n",
    "with open('converted.json', 'r') as f:\n",
    "    data = json.load(f)\n",
    "\n",
    "# Get the first image information\n",
    "first_image = data['images'][0]\n",
    "first_annotation = data['annotations'][0]\n",
    "\n",
    "# Get the category name for the first annotation\n",
    "category_id = first_annotation['category_id']\n",
    "category_name = next((category['name'] for category in data['categories'] if category['id'] == category_id), None)\n",
    "\n",
    "# Open the image file\n",
    "im = np.array(Image.open('data/cup/' + os.path.basename(first_image['file_name'])), dtype=np.uint8)\n",
    "\n",
    "# Create figure and axes\n",
    "fig, ax = plt.subplots(1)\n",
    "\n",
    "# Display the image\n",
    "ax.imshow(im)\n",
    "\n",
    "# Create a Rectangle patch for the bounding box\n",
    "# Bounding box format in the JSON is [x, y, width, height]\n",
    "bbox = patches.Rectangle((first_annotation['bbox'][0], first_annotation['bbox'][1]), \n",
    "                         first_annotation['bbox'][2], first_annotation['bbox'][3], \n",
    "                         linewidth=1, edgecolor='r', facecolor='none')\n",
    "\n",
    "# Add the patch to the Axes\n",
    "ax.add_patch(bbox)\n",
    "\n",
    "# Add the category name to the image\n",
    "plt.text(first_annotation['bbox'][0], first_annotation['bbox'][1], category_name, \n",
    "         bbox=dict(facecolor='white', alpha=0.5))\n",
    "\n",
    "plt.show()\n"
   ]
  },
  {
   "cell_type": "markdown",
   "id": "03a8b772-d248-4330-b1c4-58e60fc8b9c6",
   "metadata": {},
   "source": [
    "# End"
   ]
  },
  {
   "cell_type": "code",
   "execution_count": null,
   "id": "abc4bf53-aa0c-4e9f-a0aa-bd0d04113f3d",
   "metadata": {},
   "outputs": [],
   "source": []
  }
 ],
 "metadata": {
  "kernelspec": {
   "display_name": "Python 3 (ipykernel)",
   "language": "python",
   "name": "python3"
  },
  "language_info": {
   "codemirror_mode": {
    "name": "ipython",
    "version": 3
   },
   "file_extension": ".py",
   "mimetype": "text/x-python",
   "name": "python",
   "nbconvert_exporter": "python",
   "pygments_lexer": "ipython3",
   "version": "3.8.16"
  }
 },
 "nbformat": 4,
 "nbformat_minor": 5
}
